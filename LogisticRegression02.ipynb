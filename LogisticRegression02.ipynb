{
 "cells": [
  {
   "cell_type": "code",
   "execution_count": 1,
   "id": "1e1bd96a",
   "metadata": {},
   "outputs": [],
   "source": [
    "# Linear Regression is used for solving Regression problems,\n",
    "# Logistic regression is used for solving the classification problems.\n",
    "# It’s usually better to evaluate your model with the data you didn’t use for training. \n",
    "# That’s how you avoid bias and detect overfitting\n",
    "\n",
    "# Binomial: There can be only two possible types of the dependent variables, such as 0 or 1, Pass or Fail.\n",
    "# Multinomial: There can be 3 or more possible unordered types of the dependent variable, such as \"cat\", \"dogs\", or \"sheep\".\n",
    "# Ordinal: There can be 3 or more possible ordered types of dependent variables, such as \"low\", \"Medium\", or \"High\".\n",
    "\n",
    "# Importing the libraries\n",
    "\n",
    "import numpy as np\n",
    "import matplotlib.pyplot as plt\n",
    "import pandas as pd"
   ]
  },
  {
   "cell_type": "code",
   "execution_count": null,
   "id": "6f2fb936",
   "metadata": {},
   "outputs": [],
   "source": [
    "# dataset = pd.read_csv(\"../data.csv\")\n",
    "# dataset.head(6)"
   ]
  },
  {
   "cell_type": "code",
   "execution_count": null,
   "id": "cdfd9fe8",
   "metadata": {},
   "outputs": [],
   "source": [
    "# Scikit library in python provides a class called Imputer \n",
    "# which helps in fixing the missing values using the above strategies.\n",
    "from sklearn.impute import SimpleImputer\n",
    "imputer = SimpleImputer(missing_values = np.nan, strategy='mean')\n",
    "imputer = imputer.fit(x[:,1:3])\n",
    "x[:, 1:3] = imputer.transform(x[:, 1:3])\n"
   ]
  },
  {
   "cell_type": "code",
   "execution_count": null,
   "id": "dac1449b",
   "metadata": {},
   "outputs": [],
   "source": [
    "# LabelEncoder class to encode the values of the country. Here, France =0, Spain = 2, Germany=1\n",
    "from sklearn.preprocessing import LabelEncoder\n",
    "labelEncoder_x = LabelEncoder()\n",
    "x[: ,0] =labelEncoder_x.fit_transform(x[:, 0])\n",
    "x"
   ]
  },
  {
   "cell_type": "code",
   "execution_count": null,
   "id": "be6dc0bf",
   "metadata": {},
   "outputs": [],
   "source": [
    "from sklearn.preprocessing import OneHotEncoder\n",
    "oneHotEncoder = OneHotEncoder(categorical_features=[0])\n",
    "x= oneHotEncoder.fit_transform(x).toarray()B\n"
   ]
  },
  {
   "cell_type": "code",
   "execution_count": null,
   "id": "67cf5517",
   "metadata": {},
   "outputs": [],
   "source": [
    "labelEncoder_y = LabelEncoder()\n",
    "y =labelEncoder_y.fit_transform(y)"
   ]
  },
  {
   "cell_type": "code",
   "execution_count": null,
   "id": "4ec8df71",
   "metadata": {},
   "outputs": [],
   "source": [
    "from sklearn.model_selection import train_test_split\n",
    "x_train, x_test, y_train, y_test = train_test_split(x,y, test_size=0.2, random_state=0)\n"
   ]
  },
  {
   "cell_type": "code",
   "execution_count": null,
   "id": "1c3e9b0d",
   "metadata": {},
   "outputs": [],
   "source": [
    "from sklearn.preprocessing import StandardScaler\n",
    "sc_x = StandardScaler()\n",
    "x_train = sc_x.fit_transform(x_train)\n",
    "x_test = sc_x.transform(x_test)"
   ]
  }
 ],
 "metadata": {
  "kernelspec": {
   "display_name": "Python 3 (ipykernel)",
   "language": "python",
   "name": "python3"
  },
  "language_info": {
   "codemirror_mode": {
    "name": "ipython",
    "version": 3
   },
   "file_extension": ".py",
   "mimetype": "text/x-python",
   "name": "python",
   "nbconvert_exporter": "python",
   "pygments_lexer": "ipython3",
   "version": "3.9.7"
  }
 },
 "nbformat": 4,
 "nbformat_minor": 5
}
