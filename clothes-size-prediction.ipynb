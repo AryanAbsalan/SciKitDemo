{
 "cells": [
  {
   "cell_type": "markdown",
   "metadata": {},
   "source": [
    "# Import Necessary Libraries"
   ]
  },
  {
   "cell_type": "code",
   "execution_count": 2,
   "metadata": {},
   "outputs": [],
   "source": [
    "# Data Manipulation and Linear Algebra\n",
    "import pandas as pd\n",
    "import numpy as np\n",
    "\n",
    "# Plots\n",
    "import seaborn as sns\n",
    "sns.set_style(\"darkgrid\")\n",
    "import matplotlib.pyplot as plt\n",
    "\n",
    "# Machine Learning\n",
    "from sklearn.model_selection import StratifiedShuffleSplit, cross_val_score, cross_val_predict\n",
    "from sklearn.metrics import accuracy_score, confusion_matrix, precision_recall_curve\n",
    "from sklearn.preprocessing import StandardScaler\n",
    "\n",
    "from sklearn import linear_model, neighbors, ensemble, tree\n",
    "\n",
    "#ignore warning messages \n",
    "import warnings\n",
    "warnings.filterwarnings('ignore')"
   ]
  },
  {
   "cell_type": "markdown",
   "metadata": {},
   "source": [
    "# Loading Data"
   ]
  },
  {
   "cell_type": "code",
   "execution_count": 2,
   "metadata": {},
   "outputs": [
    {
     "data": {
      "text/html": [
       "<div>\n",
       "<style scoped>\n",
       "    .dataframe tbody tr th:only-of-type {\n",
       "        vertical-align: middle;\n",
       "    }\n",
       "\n",
       "    .dataframe tbody tr th {\n",
       "        vertical-align: top;\n",
       "    }\n",
       "\n",
       "    .dataframe thead th {\n",
       "        text-align: right;\n",
       "    }\n",
       "</style>\n",
       "<table border=\"1\" class=\"dataframe\">\n",
       "  <thead>\n",
       "    <tr style=\"text-align: right;\">\n",
       "      <th></th>\n",
       "      <th>weight</th>\n",
       "      <th>age</th>\n",
       "      <th>height</th>\n",
       "      <th>size</th>\n",
       "    </tr>\n",
       "  </thead>\n",
       "  <tbody>\n",
       "    <tr>\n",
       "      <th>0</th>\n",
       "      <td>62</td>\n",
       "      <td>28.0</td>\n",
       "      <td>172.72</td>\n",
       "      <td>XL</td>\n",
       "    </tr>\n",
       "    <tr>\n",
       "      <th>1</th>\n",
       "      <td>59</td>\n",
       "      <td>36.0</td>\n",
       "      <td>167.64</td>\n",
       "      <td>L</td>\n",
       "    </tr>\n",
       "    <tr>\n",
       "      <th>2</th>\n",
       "      <td>61</td>\n",
       "      <td>34.0</td>\n",
       "      <td>165.10</td>\n",
       "      <td>M</td>\n",
       "    </tr>\n",
       "    <tr>\n",
       "      <th>3</th>\n",
       "      <td>65</td>\n",
       "      <td>27.0</td>\n",
       "      <td>175.26</td>\n",
       "      <td>L</td>\n",
       "    </tr>\n",
       "    <tr>\n",
       "      <th>4</th>\n",
       "      <td>62</td>\n",
       "      <td>45.0</td>\n",
       "      <td>172.72</td>\n",
       "      <td>M</td>\n",
       "    </tr>\n",
       "    <tr>\n",
       "      <th>...</th>\n",
       "      <td>...</td>\n",
       "      <td>...</td>\n",
       "      <td>...</td>\n",
       "      <td>...</td>\n",
       "    </tr>\n",
       "    <tr>\n",
       "      <th>119729</th>\n",
       "      <td>63</td>\n",
       "      <td>42.0</td>\n",
       "      <td>175.26</td>\n",
       "      <td>M</td>\n",
       "    </tr>\n",
       "    <tr>\n",
       "      <th>119730</th>\n",
       "      <td>45</td>\n",
       "      <td>29.0</td>\n",
       "      <td>154.94</td>\n",
       "      <td>S</td>\n",
       "    </tr>\n",
       "    <tr>\n",
       "      <th>119731</th>\n",
       "      <td>61</td>\n",
       "      <td>31.0</td>\n",
       "      <td>172.72</td>\n",
       "      <td>M</td>\n",
       "    </tr>\n",
       "    <tr>\n",
       "      <th>119732</th>\n",
       "      <td>74</td>\n",
       "      <td>31.0</td>\n",
       "      <td>167.64</td>\n",
       "      <td>XL</td>\n",
       "    </tr>\n",
       "    <tr>\n",
       "      <th>119733</th>\n",
       "      <td>70</td>\n",
       "      <td>30.0</td>\n",
       "      <td>167.64</td>\n",
       "      <td>XL</td>\n",
       "    </tr>\n",
       "  </tbody>\n",
       "</table>\n",
       "<p>119734 rows × 4 columns</p>\n",
       "</div>"
      ],
      "text/plain": [
       "        weight   age  height size\n",
       "0           62  28.0  172.72   XL\n",
       "1           59  36.0  167.64    L\n",
       "2           61  34.0  165.10    M\n",
       "3           65  27.0  175.26    L\n",
       "4           62  45.0  172.72    M\n",
       "...        ...   ...     ...  ...\n",
       "119729      63  42.0  175.26    M\n",
       "119730      45  29.0  154.94    S\n",
       "119731      61  31.0  172.72    M\n",
       "119732      74  31.0  167.64   XL\n",
       "119733      70  30.0  167.64   XL\n",
       "\n",
       "[119734 rows x 4 columns]"
      ]
     },
     "execution_count": 2,
     "metadata": {},
     "output_type": "execute_result"
    }
   ],
   "source": [
    "data = pd.read_csv(\"final_test.csv\")\n",
    "data"
   ]
  },
  {
   "cell_type": "markdown",
   "metadata": {},
   "source": [
    "# Preprocessing"
   ]
  },
  {
   "cell_type": "markdown",
   "metadata": {},
   "source": [
    "## Checking for Null values"
   ]
  },
  {
   "cell_type": "code",
   "execution_count": 3,
   "metadata": {},
   "outputs": [
    {
     "data": {
      "text/plain": [
       "weight      0\n",
       "age       257\n",
       "height    330\n",
       "size        0\n",
       "dtype: int64"
      ]
     },
     "execution_count": 3,
     "metadata": {},
     "output_type": "execute_result"
    }
   ],
   "source": [
    "data.isnull().sum()"
   ]
  },
  {
   "cell_type": "code",
   "execution_count": 4,
   "metadata": {},
   "outputs": [
    {
     "data": {
      "text/plain": [
       "size\n",
       "M       29712\n",
       "S       21924\n",
       "XXXL    21359\n",
       "XL      19119\n",
       "L       17587\n",
       "XXS      9964\n",
       "XXL        69\n",
       "dtype: int64"
      ]
     },
     "execution_count": 4,
     "metadata": {},
     "output_type": "execute_result"
    }
   ],
   "source": [
    "data[[\"size\"]].value_counts()"
   ]
  },
  {
   "cell_type": "code",
   "execution_count": 5,
   "metadata": {},
   "outputs": [
    {
     "data": {
      "image/png": "[encoded data removed]",
      "text/plain": [
       "<Figure size 800x480 with 1 Axes>"
      ]
     },
     "metadata": {},
     "output_type": "display_data"
    }
   ],
   "source": [
    "plt.figure(figsize=(10, 6), dpi=80)\n",
    "sns.countplot(y=data[\"size\"])\n",
    "plt.show()"
   ]
  },
  {
   "cell_type": "code",
   "execution_count": 6,
   "metadata": {},
   "outputs": [
    {
     "data": {
      "text/html": [
       "<div>\n",
       "<style scoped>\n",
       "    .dataframe tbody tr th:only-of-type {\n",
       "        vertical-align: middle;\n",
       "    }\n",
       "\n",
       "    .dataframe tbody tr th {\n",
       "        vertical-align: top;\n",
       "    }\n",
       "\n",
       "    .dataframe thead th {\n",
       "        text-align: right;\n",
       "    }\n",
       "</style>\n",
       "<table border=\"1\" class=\"dataframe\">\n",
       "  <thead>\n",
       "    <tr style=\"text-align: right;\">\n",
       "      <th></th>\n",
       "      <th>weight</th>\n",
       "      <th>age</th>\n",
       "      <th>height</th>\n",
       "    </tr>\n",
       "  </thead>\n",
       "  <tbody>\n",
       "    <tr>\n",
       "      <th>count</th>\n",
       "      <td>119734.000000</td>\n",
       "      <td>119477.000000</td>\n",
       "      <td>119404.000000</td>\n",
       "    </tr>\n",
       "    <tr>\n",
       "      <th>mean</th>\n",
       "      <td>61.756811</td>\n",
       "      <td>34.027311</td>\n",
       "      <td>165.805794</td>\n",
       "    </tr>\n",
       "    <tr>\n",
       "      <th>std</th>\n",
       "      <td>9.944863</td>\n",
       "      <td>8.149447</td>\n",
       "      <td>6.737651</td>\n",
       "    </tr>\n",
       "    <tr>\n",
       "      <th>min</th>\n",
       "      <td>22.000000</td>\n",
       "      <td>0.000000</td>\n",
       "      <td>137.160000</td>\n",
       "    </tr>\n",
       "    <tr>\n",
       "      <th>25%</th>\n",
       "      <td>55.000000</td>\n",
       "      <td>29.000000</td>\n",
       "      <td>160.020000</td>\n",
       "    </tr>\n",
       "    <tr>\n",
       "      <th>50%</th>\n",
       "      <td>61.000000</td>\n",
       "      <td>32.000000</td>\n",
       "      <td>165.100000</td>\n",
       "    </tr>\n",
       "    <tr>\n",
       "      <th>75%</th>\n",
       "      <td>67.000000</td>\n",
       "      <td>37.000000</td>\n",
       "      <td>170.180000</td>\n",
       "    </tr>\n",
       "    <tr>\n",
       "      <th>max</th>\n",
       "      <td>136.000000</td>\n",
       "      <td>117.000000</td>\n",
       "      <td>193.040000</td>\n",
       "    </tr>\n",
       "  </tbody>\n",
       "</table>\n",
       "</div>"
      ],
      "text/plain": [
       "              weight            age         height\n",
       "count  119734.000000  119477.000000  119404.000000\n",
       "mean       61.756811      34.027311     165.805794\n",
       "std         9.944863       8.149447       6.737651\n",
       "min        22.000000       0.000000     137.160000\n",
       "25%        55.000000      29.000000     160.020000\n",
       "50%        61.000000      32.000000     165.100000\n",
       "75%        67.000000      37.000000     170.180000\n",
       "max       136.000000     117.000000     193.040000"
      ]
     },
     "execution_count": 6,
     "metadata": {},
     "output_type": "execute_result"
    }
   ],
   "source": [
    "data.describe()"
   ]
  },
  {
   "cell_type": "markdown",
   "metadata": {},
   "source": [
    "#### Age cannot be 0 so replacing age == 0 with np.nan"
   ]
  },
  {
   "cell_type": "code",
   "execution_count": 7,
   "metadata": {},
   "outputs": [],
   "source": [
    "data[\"age\"] = data[\"age\"].replace(0, np.nan)\n",
    "data[\"age\"] = data[\"age\"].fillna(data[\"age\"].median())"
   ]
  },
  {
   "cell_type": "markdown",
   "metadata": {},
   "source": [
    "## Checking for null values for XXL size"
   ]
  },
  {
   "cell_type": "code",
   "execution_count": 8,
   "metadata": {},
   "outputs": [
    {
     "data": {
      "text/plain": [
       "weight    0\n",
       "age       0\n",
       "height    0\n",
       "size      0\n",
       "dtype: int64"
      ]
     },
     "execution_count": 8,
     "metadata": {},
     "output_type": "execute_result"
    }
   ],
   "source": [
    "data[data[\"size\"] == \"XXL\"].isnull().sum()"
   ]
  },
  {
   "cell_type": "markdown",
   "metadata": {},
   "source": [
    "## Dropping Records with Null Values\n",
    "#### Since we have a lot of data we can safely drop records with null values"
   ]
  },
  {
   "cell_type": "code",
   "execution_count": 9,
   "metadata": {},
   "outputs": [
    {
     "data": {
      "text/plain": [
       "weight    0\n",
       "age       0\n",
       "height    0\n",
       "size      0\n",
       "dtype: int64"
      ]
     },
     "execution_count": 9,
     "metadata": {},
     "output_type": "execute_result"
    }
   ],
   "source": [
    "data.dropna(inplace=True)\n",
    "data.isnull().sum()"
   ]
  },
  {
   "cell_type": "markdown",
   "metadata": {},
   "source": [
    "## Reseting the Index"
   ]
  },
  {
   "cell_type": "code",
   "execution_count": 10,
   "metadata": {},
   "outputs": [],
   "source": [
    "data.reset_index(drop=True, inplace=True)"
   ]
  },
  {
   "cell_type": "markdown",
   "metadata": {},
   "source": [
    "# EDA"
   ]
  },
  {
   "cell_type": "code",
   "execution_count": 11,
   "metadata": {},
   "outputs": [
    {
     "data": {
      "image/png": "[encoded data removed]",
      "text/plain": [
       "<Figure size 1440x720 with 9 Axes>"
      ]
     },
     "metadata": {},
     "output_type": "display_data"
    }
   ],
   "source": [
    "fig, axes = plt.subplots(figsize=(20, 10), nrows=3, ncols=3)\n",
    "\n",
    "colors = [\"#5bde54\",\"#de5454\", \"#db53d5\"]\n",
    "\n",
    "# Histograms\n",
    "col_no = 0\n",
    "for col in data.columns[:-1]:\n",
    "    sns.histplot(x=col, data=data, ax=axes[0, col_no], bins=20, color=colors[col_no])\n",
    "    sns.kdeplot(x=col, data=data, ax=axes[1, col_no], color=colors[col_no])\n",
    "    sns.boxplot(x=col, data=data, ax=axes[2, col_no], color=colors[col_no])\n",
    "    col_no += 1"
   ]
  },
  {
   "cell_type": "markdown",
   "metadata": {},
   "source": [
    " - As You can observe from Box Plot there are a lot of outliers \n",
    " - Weight and Age of People is right skewed"
   ]
  },
  {
   "cell_type": "code",
   "execution_count": 12,
   "metadata": {},
   "outputs": [
    {
     "data": {
      "text/plain": [
       "M       29638\n",
       "S       21874\n",
       "XXXL    21303\n",
       "XL      19065\n",
       "L       17529\n",
       "XXS      9926\n",
       "XXL        69\n",
       "Name: size, dtype: int64"
      ]
     },
     "execution_count": 12,
     "metadata": {},
     "output_type": "execute_result"
    }
   ],
   "source": [
    "data[\"size\"].value_counts()"
   ]
  },
  {
   "cell_type": "code",
   "execution_count": 13,
   "metadata": {},
   "outputs": [
    {
     "data": {
      "image/png": "[encoded data removed]",
      "text/plain": [
       "<Figure size 480x640 with 1 Axes>"
      ]
     },
     "metadata": {},
     "output_type": "display_data"
    }
   ],
   "source": [
    "labels = list(data[\"size\"].value_counts().index)\n",
    "\n",
    "plt.figure(figsize=(6, 8), dpi=80)\n",
    "plt.pie(data[\"size\"].value_counts(), autopct='%.1f%%', labels=labels)\n",
    "plt.title(\"Distribution of Size\")\n",
    "plt.show()"
   ]
  },
  {
   "cell_type": "code",
   "execution_count": 14,
   "metadata": {},
   "outputs": [
    {
     "data": {
      "image/png": "[encoded data removed]",
      "text/plain": [
       "<Figure size 640x480 with 2 Axes>"
      ]
     },
     "metadata": {},
     "output_type": "display_data"
    }
   ],
   "source": [
    "plt.figure(figsize=(8, 6), dpi=80)\n",
    "sns.heatmap(data.corr(), annot=True)\n",
    "plt.show()"
   ]
  },
  {
   "cell_type": "markdown",
   "metadata": {},
   "source": [
    "## Bining all Features"
   ]
  },
  {
   "cell_type": "code",
   "execution_count": 15,
   "metadata": {},
   "outputs": [
    {
     "data": {
      "text/html": [
       "<div>\n",
       "<style scoped>\n",
       "    .dataframe tbody tr th:only-of-type {\n",
       "        vertical-align: middle;\n",
       "    }\n",
       "\n",
       "    .dataframe tbody tr th {\n",
       "        vertical-align: top;\n",
       "    }\n",
       "\n",
       "    .dataframe thead th {\n",
       "        text-align: right;\n",
       "    }\n",
       "</style>\n",
       "<table border=\"1\" class=\"dataframe\">\n",
       "  <thead>\n",
       "    <tr style=\"text-align: right;\">\n",
       "      <th></th>\n",
       "      <th>size</th>\n",
       "      <th>height_bins</th>\n",
       "      <th>weight_bins</th>\n",
       "      <th>age_bins</th>\n",
       "    </tr>\n",
       "  </thead>\n",
       "  <tbody>\n",
       "    <tr>\n",
       "      <th>0</th>\n",
       "      <td>XL</td>\n",
       "      <td>(167.64, 172.72]</td>\n",
       "      <td>(61.0, 63.0]</td>\n",
       "      <td>(26.0, 28.0]</td>\n",
       "    </tr>\n",
       "    <tr>\n",
       "      <th>1</th>\n",
       "      <td>L</td>\n",
       "      <td>(165.1, 167.64]</td>\n",
       "      <td>(58.0, 61.0]</td>\n",
       "      <td>(34.0, 36.0]</td>\n",
       "    </tr>\n",
       "    <tr>\n",
       "      <th>2</th>\n",
       "      <td>M</td>\n",
       "      <td>(162.56, 165.1]</td>\n",
       "      <td>(58.0, 61.0]</td>\n",
       "      <td>(32.0, 34.0]</td>\n",
       "    </tr>\n",
       "    <tr>\n",
       "      <th>3</th>\n",
       "      <td>L</td>\n",
       "      <td>(172.72, 193.04]</td>\n",
       "      <td>(63.0, 65.0]</td>\n",
       "      <td>(26.0, 28.0]</td>\n",
       "    </tr>\n",
       "    <tr>\n",
       "      <th>4</th>\n",
       "      <td>M</td>\n",
       "      <td>(167.64, 172.72]</td>\n",
       "      <td>(61.0, 63.0]</td>\n",
       "      <td>(39.0, 45.0]</td>\n",
       "    </tr>\n",
       "    <tr>\n",
       "      <th>...</th>\n",
       "      <td>...</td>\n",
       "      <td>...</td>\n",
       "      <td>...</td>\n",
       "      <td>...</td>\n",
       "    </tr>\n",
       "    <tr>\n",
       "      <th>119399</th>\n",
       "      <td>M</td>\n",
       "      <td>(172.72, 193.04]</td>\n",
       "      <td>(61.0, 63.0]</td>\n",
       "      <td>(39.0, 45.0]</td>\n",
       "    </tr>\n",
       "    <tr>\n",
       "      <th>119400</th>\n",
       "      <td>S</td>\n",
       "      <td>(137.159, 160.02]</td>\n",
       "      <td>(21.999, 52.0]</td>\n",
       "      <td>(28.0, 30.0]</td>\n",
       "    </tr>\n",
       "    <tr>\n",
       "      <th>119401</th>\n",
       "      <td>M</td>\n",
       "      <td>(167.64, 172.72]</td>\n",
       "      <td>(58.0, 61.0]</td>\n",
       "      <td>(30.0, 31.0]</td>\n",
       "    </tr>\n",
       "    <tr>\n",
       "      <th>119402</th>\n",
       "      <td>XL</td>\n",
       "      <td>(165.1, 167.64]</td>\n",
       "      <td>(68.0, 74.0]</td>\n",
       "      <td>(30.0, 31.0]</td>\n",
       "    </tr>\n",
       "    <tr>\n",
       "      <th>119403</th>\n",
       "      <td>XL</td>\n",
       "      <td>(165.1, 167.64]</td>\n",
       "      <td>(68.0, 74.0]</td>\n",
       "      <td>(28.0, 30.0]</td>\n",
       "    </tr>\n",
       "  </tbody>\n",
       "</table>\n",
       "<p>119404 rows × 4 columns</p>\n",
       "</div>"
      ],
      "text/plain": [
       "       size        height_bins     weight_bins      age_bins\n",
       "0        XL   (167.64, 172.72]    (61.0, 63.0]  (26.0, 28.0]\n",
       "1         L    (165.1, 167.64]    (58.0, 61.0]  (34.0, 36.0]\n",
       "2         M    (162.56, 165.1]    (58.0, 61.0]  (32.0, 34.0]\n",
       "3         L   (172.72, 193.04]    (63.0, 65.0]  (26.0, 28.0]\n",
       "4         M   (167.64, 172.72]    (61.0, 63.0]  (39.0, 45.0]\n",
       "...     ...                ...             ...           ...\n",
       "119399    M   (172.72, 193.04]    (61.0, 63.0]  (39.0, 45.0]\n",
       "119400    S  (137.159, 160.02]  (21.999, 52.0]  (28.0, 30.0]\n",
       "119401    M   (167.64, 172.72]    (58.0, 61.0]  (30.0, 31.0]\n",
       "119402   XL    (165.1, 167.64]    (68.0, 74.0]  (30.0, 31.0]\n",
       "119403   XL    (165.1, 167.64]    (68.0, 74.0]  (28.0, 30.0]\n",
       "\n",
       "[119404 rows x 4 columns]"
      ]
     },
     "execution_count": 15,
     "metadata": {},
     "output_type": "execute_result"
    }
   ],
   "source": [
    "data[\"height_bins\"] = pd.qcut(data[\"height\"], q=6)\n",
    "data[\"weight_bins\"] = pd.qcut(data[\"weight\"], q=10)\n",
    "data[\"age_bins\"] = pd.qcut(data[\"age\"], q=10)\n",
    "\n",
    "data.drop([\"weight\", \"age\", \"height\"], axis=1, inplace=True)\n",
    "data"
   ]
  },
  {
   "cell_type": "markdown",
   "metadata": {},
   "source": [
    "# Preparing Data"
   ]
  },
  {
   "cell_type": "markdown",
   "metadata": {},
   "source": [
    "## Stratified Train Test Split\n",
    "### Evenly Spreading the Dependent Variable \"size\" in train and test set"
   ]
  },
  {
   "cell_type": "code",
   "execution_count": 16,
   "metadata": {},
   "outputs": [],
   "source": [
    "split = StratifiedShuffleSplit(n_splits=1, test_size=0.2, random_state=42)\n",
    "for train_index, test_index in split.split(data, data['size']):\n",
    "    train = data.loc[train_index]\n",
    "    test = data.loc[test_index]"
   ]
  },
  {
   "cell_type": "code",
   "execution_count": 17,
   "metadata": {},
   "outputs": [
    {
     "data": {
      "text/plain": [
       "((95523, 4), (23881, 4))"
      ]
     },
     "execution_count": 17,
     "metadata": {},
     "output_type": "execute_result"
    }
   ],
   "source": [
    "train.shape, test.shape"
   ]
  },
  {
   "cell_type": "code",
   "execution_count": 18,
   "metadata": {},
   "outputs": [],
   "source": [
    "X_train = train.drop(\"size\", axis=1)\n",
    "y_train = train[\"size\"]\n",
    "\n",
    "X_test = test.drop(\"size\", axis=1)\n",
    "y_test = test[\"size\"]"
   ]
  },
  {
   "cell_type": "markdown",
   "metadata": {},
   "source": [
    "## OneHotEncoding"
   ]
  },
  {
   "cell_type": "code",
   "execution_count": 19,
   "metadata": {},
   "outputs": [],
   "source": [
    "X_train = pd.get_dummies(X_train).values\n",
    "X_test = pd.get_dummies(X_test).values"
   ]
  },
  {
   "cell_type": "markdown",
   "metadata": {},
   "source": [
    "# Machine Learning - Multiple Model Testing"
   ]
  },
  {
   "cell_type": "markdown",
   "metadata": {},
   "source": [
    "## Dataframe to store all the accuracy scores for Comparison and Analysis"
   ]
  },
  {
   "cell_type": "code",
   "execution_count": 20,
   "metadata": {},
   "outputs": [],
   "source": [
    "MLA_compare = pd.DataFrame()\n",
    "\n",
    "def MLA_testing(MLA, X_train, X_test):\n",
    "    row_index = 0\n",
    "    for classifier in MLA:\n",
    "        # Training The Model\n",
    "        classifier.fit(X_train, y_train)\n",
    "\n",
    "        # KFold Accuracies on Training Data\n",
    "        kfold_accuracy = cross_val_score(estimator = classifier, X = X_train, y = y_train, cv = 10, n_jobs=-1)\n",
    "        \n",
    "        # Prediction on Testing Data\n",
    "        y_pred = cross_val_predict(estimator = classifier, X = X_test, y = y_test, cv = 10, n_jobs=-1)\n",
    "        \n",
    "        # Accuracy for y_test and y_pred\n",
    "        classifier_accuracy_score = accuracy_score(y_test, y_pred)\n",
    "\n",
    "        # Saving Data in Dataframe\n",
    "        MLA_name = classifier.__class__.__name__\n",
    "        MLA_compare.loc[row_index, 'MLA Name'] = MLA_name\n",
    "        MLA_compare.loc[row_index, 'Accuracy Score'] = classifier_accuracy_score*100\n",
    "        MLA_compare.loc[row_index, 'K-Fold Accuracy'] = kfold_accuracy.mean()*100\n",
    "\n",
    "        print(MLA_name, \"Done\")\n",
    "        row_index+=1"
   ]
  },
  {
   "cell_type": "code",
   "execution_count": 21,
   "metadata": {},
   "outputs": [
    {
     "name": "stdout",
     "output_type": "stream",
     "text": [
      "AdaBoostClassifier Done\n",
      "RandomForestClassifier Done\n",
      "RidgeClassifierCV Done\n",
      "SGDClassifier Done\n",
      "KNeighborsClassifier Done\n",
      "DecisionTreeClassifier Done\n",
      "ExtraTreeClassifier Done\n"
     ]
    }
   ],
   "source": [
    "MLA = [\n",
    "    #Ensemble Methods\n",
    "    ensemble.AdaBoostClassifier(),\n",
    "    ensemble.RandomForestClassifier(n_jobs=-1),\n",
    "    \n",
    "    #GLM\n",
    "    linear_model.RidgeClassifierCV(),\n",
    "    linear_model.SGDClassifier(n_jobs=-1),\n",
    "\n",
    "    \n",
    "    #Nearest Neighbor\n",
    "    neighbors.KNeighborsClassifier(),\n",
    "    \n",
    "    #Trees    \n",
    "    tree.DecisionTreeClassifier(),\n",
    "    tree.ExtraTreeClassifier(),\n",
    "]\n",
    "\n",
    "MLA_testing(MLA=MLA, X_train=X_train, X_test=X_test)"
   ]
  },
  {
   "cell_type": "markdown",
   "metadata": {},
   "source": [
    "## Comparing Models"
   ]
  },
  {
   "cell_type": "code",
   "execution_count": 22,
   "metadata": {},
   "outputs": [
    {
     "data": {
      "text/html": [
       "<div>\n",
       "<style scoped>\n",
       "    .dataframe tbody tr th:only-of-type {\n",
       "        vertical-align: middle;\n",
       "    }\n",
       "\n",
       "    .dataframe tbody tr th {\n",
       "        vertical-align: top;\n",
       "    }\n",
       "\n",
       "    .dataframe thead th {\n",
       "        text-align: right;\n",
       "    }\n",
       "</style>\n",
       "<table border=\"1\" class=\"dataframe\">\n",
       "  <thead>\n",
       "    <tr style=\"text-align: right;\">\n",
       "      <th></th>\n",
       "      <th>MLA Name</th>\n",
       "      <th>Accuracy Score</th>\n",
       "      <th>K-Fold Accuracy</th>\n",
       "    </tr>\n",
       "  </thead>\n",
       "  <tbody>\n",
       "    <tr>\n",
       "      <th>0</th>\n",
       "      <td>DecisionTreeClassifier</td>\n",
       "      <td>48.825426</td>\n",
       "      <td>50.166978</td>\n",
       "    </tr>\n",
       "    <tr>\n",
       "      <th>1</th>\n",
       "      <td>ExtraTreeClassifier</td>\n",
       "      <td>48.817051</td>\n",
       "      <td>50.166978</td>\n",
       "    </tr>\n",
       "    <tr>\n",
       "      <th>2</th>\n",
       "      <td>RandomForestClassifier</td>\n",
       "      <td>48.787739</td>\n",
       "      <td>50.195245</td>\n",
       "    </tr>\n",
       "    <tr>\n",
       "      <th>3</th>\n",
       "      <td>RidgeClassifierCV</td>\n",
       "      <td>48.787739</td>\n",
       "      <td>48.458472</td>\n",
       "    </tr>\n",
       "    <tr>\n",
       "      <th>4</th>\n",
       "      <td>SGDClassifier</td>\n",
       "      <td>45.848164</td>\n",
       "      <td>46.184696</td>\n",
       "    </tr>\n",
       "    <tr>\n",
       "      <th>5</th>\n",
       "      <td>KNeighborsClassifier</td>\n",
       "      <td>44.076881</td>\n",
       "      <td>NaN</td>\n",
       "    </tr>\n",
       "    <tr>\n",
       "      <th>6</th>\n",
       "      <td>AdaBoostClassifier</td>\n",
       "      <td>40.123948</td>\n",
       "      <td>46.701841</td>\n",
       "    </tr>\n",
       "  </tbody>\n",
       "</table>\n",
       "</div>"
      ],
      "text/plain": [
       "                 MLA Name  Accuracy Score  K-Fold Accuracy\n",
       "0  DecisionTreeClassifier       48.825426        50.166978\n",
       "1     ExtraTreeClassifier       48.817051        50.166978\n",
       "2  RandomForestClassifier       48.787739        50.195245\n",
       "3       RidgeClassifierCV       48.787739        48.458472\n",
       "4           SGDClassifier       45.848164        46.184696\n",
       "5    KNeighborsClassifier       44.076881              NaN\n",
       "6      AdaBoostClassifier       40.123948        46.701841"
      ]
     },
     "execution_count": 22,
     "metadata": {},
     "output_type": "execute_result"
    }
   ],
   "source": [
    "MLA_compare = MLA_compare.sort_values(by=\"Accuracy Score\", ascending=False).reset_index(drop=True)\n",
    "MLA_compare"
   ]
  },
  {
   "cell_type": "markdown",
   "metadata": {},
   "source": [
    "# Using DecisionTreeClassifier"
   ]
  },
  {
   "cell_type": "code",
   "execution_count": 23,
   "metadata": {},
   "outputs": [
    {
     "name": "stdout",
     "output_type": "stream",
     "text": [
      "KFold Accuracies: [0.50078509 0.5077986  0.49429499 0.50659548 0.50052345 0.50062814\n",
      " 0.50293132 0.4968593  0.50366415 0.50261725]\n",
      "Mean KFold Accuracy: 0.5016697772332825\n",
      "['M' 'M' 'M' ... 'S' 'XXXL' 'XXXL']\n",
      "Accuracy Score: 0.4882542607093505\n"
     ]
    },
    {
     "data": {
      "image/png": "[encoded data removed]",
      "text/plain": [
       "<Figure size 960x640 with 2 Axes>"
      ]
     },
     "metadata": {},
     "output_type": "display_data"
    }
   ],
   "source": [
    "xgb_clf = tree.DecisionTreeClassifier()\n",
    "\n",
    "# Training the XGBClassifier\n",
    "xgb_clf.fit(X_train, y_train)\n",
    "\n",
    "# KFold Accuracy Score\n",
    "kfold_accuraies = cross_val_score(xgb_clf, X_train, y_train, cv=10, n_jobs=-1)\n",
    "print(\"KFold Accuracies:\", kfold_accuraies)\n",
    "print(\"Mean KFold Accuracy:\", kfold_accuraies.mean())\n",
    "\n",
    "# Predicting Size for Testing Data\n",
    "y_pred = cross_val_predict(xgb_clf, X_test, y_test, cv=10, n_jobs=-1)\n",
    "print(y_pred)\n",
    "\n",
    "# Accuracy Score\n",
    "print(\"Accuracy Score:\", accuracy_score(y_test, y_pred))\n",
    "\n",
    "# Confusion Matrix\n",
    "plt.figure(figsize=(12, 8), dpi=80)\n",
    "sns.heatmap(confusion_matrix(y_test, y_pred), annot=True, fmt=\"d\")\n",
    "plt.show()"
   ]
  }
 ],
 "metadata": {
  "interpreter": {
   "hash": "c910ff1971d1a35b86d57fc264bbf5a30ca5984c3d733b151c172360a879289c"
  },
  "kernelspec": {
   "display_name": "Python 3.9.7 64-bit",
   "name": "python3"
  },
  "language_info": {
   "codemirror_mode": {
    "name": "ipython",
    "version": 3
   },
   "file_extension": ".py",
   "mimetype": "text/x-python",
   "name": "python",
   "nbconvert_exporter": "python",
   "pygments_lexer": "ipython3",
   "version": "3.8.5"
  },
  "orig_nbformat": 4
 },
 "nbformat": 4,
 "nbformat_minor": 2
}
