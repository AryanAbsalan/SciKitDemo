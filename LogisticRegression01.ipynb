{
 "cells": [
  {
   "cell_type": "markdown",
   "id": "2d2d7622",
   "metadata": {},
   "source": [
    "## Logistic Regression in Python With scikit-learn: Example 1"
   ]
  },
  {
   "cell_type": "code",
   "execution_count": 125,
   "id": "1e1bd96a",
   "metadata": {},
   "outputs": [],
   "source": [
    "import matplotlib.pyplot as plt\n",
    "import numpy as np\n",
    "from sklearn.linear_model import LogisticRegression\n",
    "from sklearn.metrics import classification_report, confusion_matrix\n",
    "%matplotlib inline "
   ]
  },
  {
   "cell_type": "code",
   "execution_count": 126,
   "id": "6f2fb936",
   "metadata": {},
   "outputs": [],
   "source": [
    "# numpy.arange([start, ]stop, [step, ], dtype=None) -> numpy.ndarray\n",
    "# np.int8: 8-bit signed integer (from -128 to 127)\n",
    "# np.uint8: 8-bit unsigned integer (from 0 to 255)\n",
    "\n",
    "# np.int16: 16-bit signed integer (from -32768 to 32767)\n",
    "# np.uint16: 16-bit unsigned integer (from 0 to 65535)\n",
    "\n",
    "# np.int32: 32-bit signed integer (from -2**31 to 2**31-1)\n",
    "# np.uint32: 32-bit unsigned integer (from 0 to 2**32-1)\n",
    "\n",
    "# np.int64: 64-bit signed integer (from -2**63 to 2**63-1)\n",
    "# np.uint64: 64-bit unsigned integer (from 0 to 2**64-1)\n",
    "\n",
    "# x = np.arange(5, dtype=np.int32)\n",
    "# y = np.arange(5.0)\n",
    "# y.dtype -> dtype('float64')\n",
    "# y.itemsize  # In bytes: 8\n",
    "\n",
    "# Generally, range is more suitable when you need to iterate using the Python for loop. \n",
    "# If you want to create a NumPy array, and apply fast loops under the hood, then arange() is a much better solution.\n",
    "\n",
    "import timeit\n",
    "n = 1\n",
    "timeit.timeit(f'x = [i**2 for i in range({n})]')\n",
    "timeit.timeit(f'x = np.arange({n})**2', setup='import numpy as np')\n"
   ]
  },
  {
   "cell_type": "code",
   "execution_count": null,
   "id": "28ccdb90",
   "metadata": {},
   "outputs": [],
   "source": [
    "x = np.arange(10).reshape(-1, 1)\n",
    "y = np.array([0, 0, 0, 0, 1, 1, 1, 1, 1, 1])"
   ]
  },
  {
   "cell_type": "code",
   "execution_count": 127,
   "id": "cdfd9fe8",
   "metadata": {},
   "outputs": [],
   "source": [
    "# solver is a string ('liblinear' by default) that decides what solver to use for fitting the model. \n",
    "# Other options are 'newton-cg', 'lbfgs', 'sag', and 'saga'.\n",
    "\n",
    "# 'liblinear' solver doesn’t work without regularization.\n",
    "# 'newton-cg', 'sag', 'saga', and 'lbfgs' don’t support L1 regularization.\n",
    "# they all support L2 regularization.except 'saga'\n",
    "# 'saga' is the only solver that supports elastic-net regularization.\n",
    "\n",
    "# random_state is an integer, an instance of numpy.RandomState, or None (default) \n",
    "# that defines what pseudo-random number generator to use.\n",
    "\n",
    "model = LogisticRegression(solver='liblinear', random_state=0)"
   ]
  },
  {
   "cell_type": "code",
   "execution_count": 128,
   "id": "dac1449b",
   "metadata": {},
   "outputs": [
    {
     "data": {
      "text/plain": [
       "LogisticRegression(random_state=0, solver='liblinear')"
      ]
     },
     "execution_count": 128,
     "metadata": {},
     "output_type": "execute_result"
    }
   ],
   "source": [
    "model.fit(x, y)"
   ]
  },
  {
   "cell_type": "code",
   "execution_count": 129,
   "id": "be6dc0bf",
   "metadata": {},
   "outputs": [
    {
     "data": {
      "text/plain": [
       "array([0, 1])"
      ]
     },
     "execution_count": 129,
     "metadata": {},
     "output_type": "execute_result"
    }
   ],
   "source": [
    "# the attribute .classes_ represents the array of distinct values that y takes:\n",
    "model.classes_"
   ]
  },
  {
   "cell_type": "code",
   "execution_count": 130,
   "id": "67cf5517",
   "metadata": {},
   "outputs": [
    {
     "data": {
      "text/plain": [
       "array([[0.51491375]])"
      ]
     },
     "execution_count": 130,
     "metadata": {},
     "output_type": "execute_result"
    }
   ],
   "source": [
    "# You can also get the value of the slope 𝑏₁ and the intercept 𝑏₀ of the linear function 𝑓 \n",
    "model.intercept_\n",
    "model.coef_"
   ]
  },
  {
   "cell_type": "code",
   "execution_count": 131,
   "id": "4ec8df71",
   "metadata": {},
   "outputs": [
    {
     "data": {
      "text/plain": [
       "array([[0.74002157, 0.25997843],\n",
       "       [0.62975524, 0.37024476],\n",
       "       [0.5040632 , 0.4959368 ],\n",
       "       [0.37785549, 0.62214451],\n",
       "       [0.26628093, 0.73371907],\n",
       "       [0.17821501, 0.82178499],\n",
       "       [0.11472079, 0.88527921],\n",
       "       [0.07186982, 0.92813018],\n",
       "       [0.04422513, 0.95577487],\n",
       "       [0.02690569, 0.97309431]])"
      ]
     },
     "execution_count": 131,
     "metadata": {},
     "output_type": "execute_result"
    }
   ],
   "source": [
    "# returns the matrix of probabilities that the predicted output is equal to zero or one\n",
    "model.predict_proba(x)"
   ]
  },
  {
   "cell_type": "code",
   "execution_count": 132,
   "id": "1c3e9b0d",
   "metadata": {},
   "outputs": [
    {
     "data": {
      "text/plain": [
       "array([0, 0, 0, 1, 1, 1, 1, 1, 1, 1])"
      ]
     },
     "execution_count": 132,
     "metadata": {},
     "output_type": "execute_result"
    }
   ],
   "source": [
    " model.predict(x)"
   ]
  },
  {
   "cell_type": "code",
   "execution_count": 133,
   "id": "ba9180b0",
   "metadata": {},
   "outputs": [
    {
     "data": {
      "text/plain": [
       "0.9"
      ]
     },
     "execution_count": 133,
     "metadata": {},
     "output_type": "execute_result"
    }
   ],
   "source": [
    "# .score() takes the input and output as arguments and\n",
    "# returns the ratio of the number of correct predictions to the number of observations.\n",
    "model.score(x, y)"
   ]
  },
  {
   "cell_type": "code",
   "execution_count": 134,
   "id": "6cf794e1",
   "metadata": {},
   "outputs": [
    {
     "name": "stdout",
     "output_type": "stream",
     "text": [
      "[0 0 0 1 1 1 1 1 1 1]\n"
     ]
    },
    {
     "data": {
      "text/plain": [
       "array([[3, 1],\n",
       "       [0, 6]], dtype=int64)"
      ]
     },
     "execution_count": 134,
     "metadata": {},
     "output_type": "execute_result"
    }
   ],
   "source": [
    "print(model.predict(x))\n",
    "confusion_matrix(y, model.predict(x))"
   ]
  },
  {
   "cell_type": "code",
   "execution_count": 135,
   "id": "cefa6aaa",
   "metadata": {},
   "outputs": [
    {
     "data": {
      "image/png": "[encoded data removed]",
      "text/plain": [
       "<Figure size 576x576 with 1 Axes>"
      ]
     },
     "metadata": {
      "needs_background": "light"
     },
     "output_type": "display_data"
    }
   ],
   "source": [
    "confusion_matrix = confusion_matrix(y, model.predict(x))\n",
    "\n",
    "fig, ax = plt.subplots(figsize=(8, 8))\n",
    "\n",
    "ax.imshow(confusion_matrix)\n",
    "ax.grid(False)\n",
    "\n",
    "ax.xaxis.set(ticks=(0, 1), ticklabels=('Predicted 0s', 'Predicted 1s'))\n",
    "ax.yaxis.set(ticks=(0, 1), ticklabels=('Actual 0s', 'Actual 1s'))\n",
    "\n",
    "ax.set_ylim(1.5, -0.5)\n",
    "\n",
    "for i in range(2):\n",
    "    for j in range(2):\n",
    "        ax.text(j, i, confusion_matrix[i, j], ha='center', va='center', color='red')\n",
    "        \n",
    "plt.show()"
   ]
  },
  {
   "cell_type": "code",
   "execution_count": 136,
   "id": "6c94542a",
   "metadata": {},
   "outputs": [
    {
     "name": "stdout",
     "output_type": "stream",
     "text": [
      "              precision    recall  f1-score   support\n",
      "\n",
      "           0       1.00      0.75      0.86         4\n",
      "           1       0.86      1.00      0.92         6\n",
      "\n",
      "    accuracy                           0.90        10\n",
      "   macro avg       0.93      0.88      0.89        10\n",
      "weighted avg       0.91      0.90      0.90        10\n",
      "\n"
     ]
    }
   ],
   "source": [
    "# You can get a more comprehensive report on the classification with\n",
    "print(classification_report(y, model.predict(x)))"
   ]
  },
  {
   "cell_type": "markdown",
   "id": "9f7ee8f2",
   "metadata": {},
   "source": [
    "# Improve the Model\n"
   ]
  },
  {
   "cell_type": "code",
   "execution_count": 137,
   "id": "b1866a43",
   "metadata": {},
   "outputs": [
    {
     "data": {
      "text/plain": [
       "LogisticRegression(C=10.0, random_state=0, solver='liblinear')"
      ]
     },
     "execution_count": 137,
     "metadata": {},
     "output_type": "execute_result"
    }
   ],
   "source": [
    "# You can improve your model by setting different parameters. \n",
    "# For example, let’s work with the regularization strength C equal to 10.0, instead of the default value of 1.0:\n",
    "improved_model = LogisticRegression(solver='liblinear', C=10.0, random_state=0)\n",
    "improved_model.fit(x, y)"
   ]
  },
  {
   "cell_type": "code",
   "execution_count": 138,
   "id": "e75d0feb",
   "metadata": {},
   "outputs": [
    {
     "data": {
      "text/plain": [
       "array([0, 0, 0, 0, 1, 1, 1, 1, 1, 1])"
      ]
     },
     "execution_count": 138,
     "metadata": {},
     "output_type": "execute_result"
    }
   ],
   "source": [
    "improved_model.intercept_\n",
    "improved_model.coef_\n",
    "improved_model.predict_proba(x)\n",
    "improved_model.predict(x)"
   ]
  },
  {
   "cell_type": "code",
   "execution_count": 139,
   "id": "0594c6f0",
   "metadata": {},
   "outputs": [
    {
     "name": "stdout",
     "output_type": "stream",
     "text": [
      "1.0\n"
     ]
    }
   ],
   "source": [
    "print(improved_model.score(x, y))"
   ]
  },
  {
   "cell_type": "code",
   "execution_count": 142,
   "id": "2278ac89",
   "metadata": {},
   "outputs": [
    {
     "name": "stdout",
     "output_type": "stream",
     "text": [
      "[0 0 0 0 1 1 1 1 1 1]\n"
     ]
    },
    {
     "ename": "TypeError",
     "evalue": "'numpy.ndarray' object is not callable",
     "output_type": "error",
     "traceback": [
      "\u001b[1;31m---------------------------------------------------------------------------\u001b[0m",
      "\u001b[1;31mTypeError\u001b[0m                                 Traceback (most recent call last)",
      "\u001b[1;32mC:\\Users\\ARYAN~1.ABS\\AppData\\Local\\Temp/ipykernel_13620/2317450324.py\u001b[0m in \u001b[0;36m<module>\u001b[1;34m\u001b[0m\n\u001b[0;32m      1\u001b[0m \u001b[0my_pred\u001b[0m \u001b[1;33m=\u001b[0m \u001b[0mimproved_model\u001b[0m\u001b[1;33m.\u001b[0m\u001b[0mpredict\u001b[0m\u001b[1;33m(\u001b[0m\u001b[0mx\u001b[0m\u001b[1;33m)\u001b[0m\u001b[1;33m\u001b[0m\u001b[1;33m\u001b[0m\u001b[0m\n\u001b[0;32m      2\u001b[0m \u001b[0mprint\u001b[0m\u001b[1;33m(\u001b[0m\u001b[0my_pred\u001b[0m\u001b[1;33m)\u001b[0m\u001b[1;33m\u001b[0m\u001b[1;33m\u001b[0m\u001b[0m\n\u001b[1;32m----> 3\u001b[1;33m \u001b[0mconfusion_matrix\u001b[0m\u001b[1;33m(\u001b[0m\u001b[0my\u001b[0m\u001b[1;33m,\u001b[0m \u001b[0mimproved_model\u001b[0m\u001b[1;33m.\u001b[0m\u001b[0mpredict\u001b[0m\u001b[1;33m(\u001b[0m\u001b[0mx\u001b[0m\u001b[1;33m)\u001b[0m\u001b[1;33m)\u001b[0m\u001b[1;33m\u001b[0m\u001b[1;33m\u001b[0m\u001b[0m\n\u001b[0m",
      "\u001b[1;31mTypeError\u001b[0m: 'numpy.ndarray' object is not callable"
     ]
    }
   ],
   "source": [
    "y_pred = improved_model.predict(x)\n",
    "print(y_pred)\n",
    "confusion_matrix(y, improved_model.predict(x))"
   ]
  },
  {
   "cell_type": "code",
   "execution_count": 110,
   "id": "94e0cef3",
   "metadata": {},
   "outputs": [
    {
     "name": "stdout",
     "output_type": "stream",
     "text": [
      "              precision    recall  f1-score   support\n",
      "\n",
      "           0       0.67      0.67      0.67         3\n",
      "           1       0.86      0.86      0.86         7\n",
      "\n",
      "    accuracy                           0.80        10\n",
      "   macro avg       0.76      0.76      0.76        10\n",
      "weighted avg       0.80      0.80      0.80        10\n",
      "\n"
     ]
    }
   ],
   "source": [
    "print(classification_report(y, model.predict(x)))"
   ]
  },
  {
   "cell_type": "markdown",
   "id": "8218adb7",
   "metadata": {},
   "source": [
    "## Logistic Regression in Python With scikit-learn: Example 2"
   ]
  },
  {
   "cell_type": "code",
   "execution_count": 99,
   "id": "ba886e42",
   "metadata": {},
   "outputs": [],
   "source": [
    "# Step 1: Import packages, functions, and classes\n",
    "import numpy as np\n",
    "from sklearn.linear_model import LogisticRegression\n",
    "from sklearn.metrics import classification_report, confusion_matrix\n",
    "\n",
    "# Step 2: Get data\n",
    "x = np.arange(10).reshape(-1, 1)\n",
    "y = np.array([0, 1, 0, 0, 1, 1, 1, 1, 1, 1])\n",
    "\n",
    "# Step 3: Create a model and train it\n",
    "model = LogisticRegression(solver='liblinear', C=10.0, random_state=0)\n",
    "model.fit(x, y)\n",
    "\n",
    "# Step 4: Evaluate the model\n",
    "p_pred = model.predict_proba(x)\n",
    "y_pred = model.predict(x)\n",
    "score_ = model.score(x, y)\n",
    "conf_m = confusion_matrix(y, y_pred)\n",
    "report = classification_report(y, y_pred)\n",
    "\n",
    "# Unlike the previous one, this problem is not linearly separable. \n",
    "# That means you can’t find a value of 𝑥 and draw a straight line \n",
    "# to separate the observations with 𝑦=0 and those with 𝑦=1. \n",
    "\n",
    "print('x:', x, sep='\\n')\n",
    "\n",
    "print('y:', y, sep='\\n', end='\\n\\n')\n",
    "\n",
    "print('intercept:', model.intercept_)\n",
    "print('coef:', model.coef_, end='\\n\\n')\n",
    "\n",
    "\n",
    "print('p_pred:', p_pred, sep='\\n', end='\\n\\n')\n",
    "print('y_pred:', y_pred, end='\\n\\n')\n",
    "print('score_:', score_, end='\\n\\n')\n",
    "\n",
    "\n",
    "print('conf_m:', conf_m, sep='\\n', end='\\n\\n')\n",
    "print('report:', report, sep='\\n')"
   ]
  }
 ],
 "metadata": {
  "kernelspec": {
   "display_name": "Python 3 (ipykernel)",
   "language": "python",
   "name": "python3"
  },
  "language_info": {
   "codemirror_mode": {
    "name": "ipython",
    "version": 3
   },
   "file_extension": ".py",
   "mimetype": "text/x-python",
   "name": "python",
   "nbconvert_exporter": "python",
   "pygments_lexer": "ipython3",
   "version": "3.9.7"
  }
 },
 "nbformat": 4,
 "nbformat_minor": 5
}
