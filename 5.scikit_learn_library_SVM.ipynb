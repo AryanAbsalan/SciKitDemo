{
 "cells": [
  {
   "cell_type": "code",
   "execution_count": 3,
   "id": "288418c9",
   "metadata": {},
   "outputs": [
    {
     "name": "stdout",
     "output_type": "stream",
     "text": [
      "Mean Squared Error (MSE): 20.78145887587473\n",
      "R-squared (R2): 0.8524831042805905\n"
     ]
    }
   ],
   "source": [
    "from sklearn.svm import SVR\n",
    "from sklearn.datasets import make_regression\n",
    "from sklearn.model_selection import train_test_split\n",
    "from sklearn.metrics import mean_squared_error, r2_score\n",
    "\n",
    "# Generate sample data\n",
    "X, y = make_regression(n_samples=100, n_features=1, noise=0.2)\n",
    "\"\"\"\n",
    "n_samples (default=100): \n",
    "The total number of samples (data points) in the generated dataset.\n",
    "\n",
    "n_features (default=1): \n",
    "The number of independent variables (features) in the dataset.\n",
    "\n",
    "n_informative (default=1): \n",
    "The number of informative features. \n",
    "These are the features that have a direct influence on the target variable.\n",
    "\"\"\"\n",
    "\n",
    "# Split the data into training and test sets\n",
    "X_train, X_test, y_train, y_test = train_test_split(X, y, test_size=0.2, random_state=42)\n",
    "\n",
    "# Create an SVR model\n",
    "model = SVR(kernel='rbf')\n",
    "\"\"\"\n",
    "'rbf', which stands for radial basis function.\n",
    "The RBF kernel is the default kernel for SVR. \n",
    "Other kernel options include 'linear', 'poly', and 'sigmoid'\n",
    "\n",
    "The linear kernel is useful when \n",
    "the relationship between the features and the target is expected to be linear.\n",
    "\n",
    "The polynomial kernel\n",
    "It can capture non-linear relationships \n",
    "by transforming the input space into a higher-dimensional space \n",
    "using polynomial basis functions.\n",
    "\n",
    "The sigmoid kernel computes the similarity between two samples using a sigmoid function.\n",
    "It is primarily used for binary classification problems. \n",
    "\"\"\"\n",
    "\n",
    "# Train the model\n",
    "model.fit(X_train, y_train)\n",
    "\n",
    "# Make predictions on the test set\n",
    "y_pred = model.predict(X_test)\n",
    "\n",
    "# Calculate evaluation metrics\n",
    "mse = mean_squared_error(y_test, y_pred)\n",
    "r2 = r2_score(y_test, y_pred)\n",
    "\n",
    "# Print evaluation metrics\n",
    "print(\"Mean Squared Error (MSE):\", mse)\n",
    "print(\"R-squared (R2):\", r2)\n"
   ]
  },
  {
   "cell_type": "code",
   "execution_count": 7,
   "id": "b10e8447",
   "metadata": {},
   "outputs": [
    {
     "data": {
      "text/html": [
       "<div>\n",
       "<style scoped>\n",
       "    .dataframe tbody tr th:only-of-type {\n",
       "        vertical-align: middle;\n",
       "    }\n",
       "\n",
       "    .dataframe tbody tr th {\n",
       "        vertical-align: top;\n",
       "    }\n",
       "\n",
       "    .dataframe thead th {\n",
       "        text-align: right;\n",
       "    }\n",
       "</style>\n",
       "<table border=\"1\" class=\"dataframe\">\n",
       "  <thead>\n",
       "    <tr style=\"text-align: right;\">\n",
       "      <th></th>\n",
       "      <th>feature</th>\n",
       "      <th>target</th>\n",
       "    </tr>\n",
       "  </thead>\n",
       "  <tbody>\n",
       "    <tr>\n",
       "      <th>0</th>\n",
       "      <td>-0.481971</td>\n",
       "      <td>-6.530175</td>\n",
       "    </tr>\n",
       "    <tr>\n",
       "      <th>1</th>\n",
       "      <td>0.681435</td>\n",
       "      <td>9.170259</td>\n",
       "    </tr>\n",
       "    <tr>\n",
       "      <th>2</th>\n",
       "      <td>0.461069</td>\n",
       "      <td>6.114819</td>\n",
       "    </tr>\n",
       "    <tr>\n",
       "      <th>3</th>\n",
       "      <td>-0.758931</td>\n",
       "      <td>-10.138995</td>\n",
       "    </tr>\n",
       "    <tr>\n",
       "      <th>4</th>\n",
       "      <td>-0.062745</td>\n",
       "      <td>-0.957728</td>\n",
       "    </tr>\n",
       "  </tbody>\n",
       "</table>\n",
       "</div>"
      ],
      "text/plain": [
       "    feature     target\n",
       "0 -0.481971  -6.530175\n",
       "1  0.681435   9.170259\n",
       "2  0.461069   6.114819\n",
       "3 -0.758931 -10.138995\n",
       "4 -0.062745  -0.957728"
      ]
     },
     "execution_count": 7,
     "metadata": {},
     "output_type": "execute_result"
    }
   ],
   "source": [
    "import pandas as pd\n",
    "#  Create a DataFrame from the features and target variable\n",
    "df = pd.DataFrame(X, columns=['feature'])\n",
    "df['target'] = y\n",
    "\n",
    "# Display the DataFrame\n",
    "df.head()"
   ]
  }
 ],
 "metadata": {
  "kernelspec": {
   "display_name": "Python 3 (ipykernel)",
   "language": "python",
   "name": "python3"
  },
  "language_info": {
   "codemirror_mode": {
    "name": "ipython",
    "version": 3
   },
   "file_extension": ".py",
   "mimetype": "text/x-python",
   "name": "python",
   "nbconvert_exporter": "python",
   "pygments_lexer": "ipython3",
   "version": "3.9.6"
  }
 },
 "nbformat": 4,
 "nbformat_minor": 5
}
