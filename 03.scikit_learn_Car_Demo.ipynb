{
 "cells": [
  {
   "cell_type": "code",
   "execution_count": 1,
   "id": "288418c9",
   "metadata": {},
   "outputs": [
    {
     "name": "stdout",
     "output_type": "stream",
     "text": [
      "Index(['buying', ' maint', 'doors', 'persons', 'lug_boot', 'safety', 'class'], dtype='object')\n",
      "  buying  maint doors persons lug_boot safety  class\n",
      "0  vhigh  vhigh     2       2    small    low  unacc\n",
      "1  vhigh  vhigh     2       2    small    med  unacc\n",
      "2  vhigh  vhigh     2       2    small   high  unacc\n",
      "3  vhigh  vhigh     2       2      med    low  unacc\n",
      "4  vhigh  vhigh     2       2      med    med  unacc\n"
     ]
    }
   ],
   "source": [
    "import pandas as pd\n",
    "from sklearn.model_selection import train_test_split\n",
    "from sklearn.preprocessing import LabelEncoder\n",
    "from sklearn.neighbors import KNeighborsClassifier\n",
    "from sklearn.metrics import accuracy_score\n",
    "import matplotlib.pyplot as plt\n",
    "import seaborn as sns\n",
    "sns.set_style(\"darkgrid\") \n",
    "\n",
    "# Load the Car Evaluation dataset\n",
    "# url = 'https://archive.ics.uci.edu/ml/machine-learning-databases/car/car.data'\n",
    "# column_names = ['buying', 'maint', 'doors', 'persons', 'lug_boot', 'safety', 'class']\n",
    "# car_data = pd.read_csv(url, names=column_names)\n",
    "\n",
    "data = pd.read_csv(\"car.data\")\n",
    "print(data.columns)\n",
    "print(data.head())\n",
    "\n",
    "# Preprocess the data\n",
    "# # Define the categorical columns\n",
    "# X = list(data.columns)[:6]\n",
    "# data.columns: ['buying', ' maint', 'doors', 'persons', 'lug_boot', 'safety', 'class']\n",
    "# categorical_columns: ['buying', ' maint', 'doors', 'persons', 'lug_boot', 'safety']\n",
    "\n",
    "X = data[['buying', ' maint', 'doors', 'persons', 'lug_boot', 'safety']].values\n",
    "\n",
    "label_encoder = LabelEncoder()\n",
    "for i in range(len(X[0])):\n",
    "    X[:,i]=label_encoder.fit_transform( X[:,i])\n",
    "\n",
    "# Map the labels in the 'class' column using the predefined mapping \n",
    "# Fill NaN with 0 but not 0.0\n",
    "label_mapping = {'uacc': 0, 'acc': 1, 'good': 2, 'vgood': 3}\n",
    "data['class'] = data['class'].map(label_mapping).fillna(0).astype(int)\n",
    "y=data['class']\n",
    "\n"
   ]
  },
  {
   "cell_type": "code",
   "execution_count": 87,
   "id": "00876250",
   "metadata": {},
   "outputs": [
    {
     "name": "stdout",
     "output_type": "stream",
     "text": [
      "Accuracy: 0.838150289017341\n"
     ]
    }
   ],
   "source": [
    "# Split the data into training and testing sets\n",
    "X_train, X_test, y_train, y_test = train_test_split(X, y, test_size=0.2, random_state=42)\n",
    "\n",
    "# Create a KNN classifier\n",
    "# knn = KNeighborsClassifier(n_neighbors=5,weights='distance')\n",
    "knn = KNeighborsClassifier(n_neighbors=5,weights='uniform')\n",
    "\n",
    "# Fit the classifier to the training data\n",
    "knn.fit(X_train, y_train)\n",
    "\n",
    "# Make predictions on the test data\n",
    "y_pred = knn.predict(X_test)\n",
    "\n",
    "# Calculate the accuracy of the model\n",
    "accuracy = accuracy_score(y_test, y_pred)\n",
    "print(\"Accuracy:\", accuracy)"
   ]
  },
  {
   "cell_type": "code",
   "execution_count": 70,
   "id": "4bc0d686",
   "metadata": {},
   "outputs": [
    {
     "data": {
      "image/png": "[encoded data removed]",
      "text/plain": [
       "<Figure size 800x480 with 1 Axes>"
      ]
     },
     "metadata": {},
     "output_type": "display_data"
    }
   ],
   "source": [
    "plt.figure(figsize=(10, 6), dpi=80)\n",
    "# sns.countplot(y=data[\" maint\"])\n",
    "# sns.countplot(y=data[\"buying\"])\n",
    "sns.countplot(y=data[\"class\"])\n",
    "# sns.countplot(y=data[\"doors\"])\n",
    "# sns.countplot(y=data[\"lug_boot\"])\n",
    "# sns.countplot(y=data[\"persons\"])\n",
    "# sns.countplot(y=data[\"safety\"])\n",
    "plt.show()"
   ]
  }
 ],
 "metadata": {
  "kernelspec": {
   "display_name": "Python 3 (ipykernel)",
   "language": "python",
   "name": "python3"
  },
  "language_info": {
   "codemirror_mode": {
    "name": "ipython",
    "version": 3
   },
   "file_extension": ".py",
   "mimetype": "text/x-python",
   "name": "python",
   "nbconvert_exporter": "python",
   "pygments_lexer": "ipython3",
   "version": "3.9.6"
  }
 },
 "nbformat": 4,
 "nbformat_minor": 5
}
