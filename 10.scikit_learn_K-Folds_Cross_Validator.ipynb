{
 "cells": [
  {
   "cell_type": "code",
   "execution_count": 3,
   "id": "72e5c92f",
   "metadata": {},
   "outputs": [
    {
     "name": "stdout",
     "output_type": "stream",
     "text": [
      "Fold Score: 0.4295564286585779\n",
      "Fold Score: 0.5225982811135659\n",
      "Fold Score: 0.4826783998252704\n",
      "Fold Score: 0.4265082749941945\n",
      "Fold Score: 0.550249225965861\n"
     ]
    }
   ],
   "source": [
    "from sklearn.datasets import load_diabetes\n",
    "from sklearn.model_selection import KFold\n",
    "from sklearn.linear_model import LinearRegression\n",
    "\n",
    "# Load the diabetes dataset\n",
    "diabetes = load_diabetes()\n",
    "X = diabetes.data\n",
    "y = diabetes.target\n",
    "\n",
    "# Create a linear regression model\n",
    "model = LinearRegression()\n",
    "\n",
    "# Create a KFold object with 5 folds\n",
    "# without shuffling by default\n",
    "# Each fold is then used once as a validation while \n",
    "# The k - 1 remaining folds form the training set.\n",
    "kfold = KFold(n_splits=5)\n",
    "\n",
    "# Perform cross-validation\n",
    "for train_index, test_index in kfold.split(X):\n",
    "    # Split the data into training and testing sets\n",
    "    X_train, X_test = X[train_index], X[test_index]\n",
    "    y_train, y_test = y[train_index], y[test_index]\n",
    "    \n",
    "    # Fit the model on the training data\n",
    "    model.fit(X_train, y_train)\n",
    "    \n",
    "    # Evaluate the model on the testing data\n",
    "    score = model.score(X_test, y_test)\n",
    "    \n",
    "    # Print the score for each fold\n",
    "    print(\"Fold Score:\", score)"
   ]
  },
  {
   "cell_type": "code",
   "execution_count": 5,
   "id": "345d1f3a",
   "metadata": {},
   "outputs": [
    {
     "name": "stderr",
     "output_type": "stream",
     "text": [
      "c:\\Users\\Aryan.ABSALAN\\AppData\\Local\\Programs\\Python\\Python39\\lib\\site-packages\\sklearn\\model_selection\\_split.py:676: UserWarning: The least populated class in y has only 1 members, which is less than n_splits=5.\n",
      "  warnings.warn(\n"
     ]
    },
    {
     "name": "stdout",
     "output_type": "stream",
     "text": [
      "StratifiedKFold Score: 0.011235955056179775\n",
      "StratifiedKFold Score: 0.011235955056179775\n",
      "StratifiedKFold Score: 0.011363636363636364\n",
      "StratifiedKFold Score: 0.011363636363636364\n",
      "StratifiedKFold Score: 0.011363636363636364\n"
     ]
    }
   ],
   "source": [
    "from sklearn.datasets import load_diabetes\n",
    "from sklearn.model_selection import StratifiedKFold\n",
    "from sklearn.linear_model import LogisticRegression\n",
    "\n",
    "# Load the diabetes dataset\n",
    "diabetes = load_diabetes()\n",
    "X = diabetes.data\n",
    "y = diabetes.target\n",
    "\n",
    "# Create a logistic regression model\n",
    "model = LogisticRegression()\n",
    "\n",
    "# Create a StratifiedKFold object with 5 folds\n",
    "# Stratified cross-validation is particularly useful when dealing with imbalanced datasets, \n",
    "# where the class distribution is uneven. \n",
    "# It ensures that each fold has a proportional representation of different classes, \n",
    "# helping to produce more reliable and representative evaluation results.\n",
    "\n",
    "stratified_kfold = StratifiedKFold(n_splits=5,random_state=None, shuffle=False)\n",
    "\n",
    "# Perform cross-validation\n",
    "for train_index, test_index in stratified_kfold.split(X, y):\n",
    "    # Split the data into training and testing sets\n",
    "    X_train, X_test = X[train_index], X[test_index]\n",
    "    y_train, y_test = y[train_index], y[test_index]\n",
    "    \n",
    "    # Fit the model on the training data\n",
    "    model.fit(X_train, y_train)\n",
    "    \n",
    "    # Evaluate the model on the testing data\n",
    "    score = model.score(X_test, y_test)\n",
    "    \n",
    "    # Print the score for each fold\n",
    "    print(\"StratifiedKFold Score:\", score)\n",
    "    \n"
   ]
  },
  {
   "cell_type": "code",
   "execution_count": 7,
   "id": "1b96b6bc",
   "metadata": {},
   "outputs": [
    {
     "name": "stdout",
     "output_type": "stream",
     "text": [
      "Fold Score: 0.42819426229187185\n",
      "Fold Score: 0.4912257033901125\n",
      "Fold Score: 0.46395603957976983\n",
      "Fold Score: 0.5467154438789377\n",
      "Fold Score: 0.5091372300916409\n"
     ]
    }
   ],
   "source": [
    "from sklearn.datasets import load_diabetes\n",
    "from sklearn.model_selection import GroupKFold\n",
    "from sklearn.linear_model import LinearRegression\n",
    "\n",
    "# Load the diabetes dataset\n",
    "diabetes = load_diabetes()\n",
    "X = diabetes.data\n",
    "y = diabetes.target\n",
    "groups = diabetes.data[:, 0]  # Use the first feature as groups\n",
    "\n",
    "# Create a linear regression model\n",
    "model = LinearRegression()\n",
    "\n",
    "# Create a GroupKFold object with 5 groups\n",
    "group_kfold = GroupKFold(n_splits=5)\n",
    "\n",
    "# Perform cross-validation\n",
    "for train_index, test_index in group_kfold.split(X, y, groups):\n",
    "    # Split the data into training and testing sets\n",
    "    X_train, X_test = X[train_index], X[test_index]\n",
    "    y_train, y_test = y[train_index], y[test_index]\n",
    "\n",
    "    # Fit the model on the training data\n",
    "    model.fit(X_train, y_train)\n",
    "    \n",
    "    # Evaluate the model on the testing data\n",
    "    score = model.score(X_test, y_test)\n",
    "    \n",
    "    # Print the score for each fold\n",
    "    print(\"Fold Score:\", score)\n"
   ]
  }
 ],
 "metadata": {
  "kernelspec": {
   "display_name": "Python 3 (ipykernel)",
   "language": "python",
   "name": "python3"
  },
  "language_info": {
   "codemirror_mode": {
    "name": "ipython",
    "version": 3
   },
   "file_extension": ".py",
   "mimetype": "text/x-python",
   "name": "python",
   "nbconvert_exporter": "python",
   "pygments_lexer": "ipython3",
   "version": "3.9.6"
  }
 },
 "nbformat": 4,
 "nbformat_minor": 5
}
