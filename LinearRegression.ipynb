{
 "cells": [
  {
   "cell_type": "markdown",
   "id": "4c62b490",
   "metadata": {},
   "source": [
    "# Linear Regression \n",
    "The objective of the least squares method is to find values of α and β that minimise the sum of the squared difference between Y and Yₑ. We will not go through the derivation here, but using calculus we can show that the values of the unknown parameters are as follows:\n",
    "Beta = sum of (x item - mean of x)(y item - mean of y) / (x item - mean of x)\n",
    "Alpha = mean of y -( beta * mean of x) \n",
    "\n",
    "where X̄ is the mean of X values and Ȳ is the mean of Y values.\n",
    "\n",
    "If you are familiar with statistics, you may recognise β as simply\n",
    "Cov(X, Y) / Var(X)."
   ]
  },
  {
   "cell_type": "code",
   "execution_count": 1,
   "id": "7f5e4f48",
   "metadata": {},
   "outputs": [
    {
     "data": {
      "text/html": [
       "<div>\n",
       "<style scoped>\n",
       "    .dataframe tbody tr th:only-of-type {\n",
       "        vertical-align: middle;\n",
       "    }\n",
       "\n",
       "    .dataframe tbody tr th {\n",
       "        vertical-align: top;\n",
       "    }\n",
       "\n",
       "    .dataframe thead th {\n",
       "        text-align: right;\n",
       "    }\n",
       "</style>\n",
       "<table border=\"1\" class=\"dataframe\">\n",
       "  <thead>\n",
       "    <tr style=\"text-align: right;\">\n",
       "      <th></th>\n",
       "      <th>X</th>\n",
       "      <th>y</th>\n",
       "    </tr>\n",
       "  </thead>\n",
       "  <tbody>\n",
       "    <tr>\n",
       "      <th>0</th>\n",
       "      <td>5.910131</td>\n",
       "      <td>4.714615</td>\n",
       "    </tr>\n",
       "    <tr>\n",
       "      <th>1</th>\n",
       "      <td>2.500393</td>\n",
       "      <td>2.076238</td>\n",
       "    </tr>\n",
       "    <tr>\n",
       "      <th>2</th>\n",
       "      <td>3.946845</td>\n",
       "      <td>2.548811</td>\n",
       "    </tr>\n",
       "    <tr>\n",
       "      <th>3</th>\n",
       "      <td>7.102233</td>\n",
       "      <td>4.615368</td>\n",
       "    </tr>\n",
       "    <tr>\n",
       "      <th>4</th>\n",
       "      <td>6.168895</td>\n",
       "      <td>3.264107</td>\n",
       "    </tr>\n",
       "  </tbody>\n",
       "</table>\n",
       "</div>"
      ],
      "text/plain": [
       "          X         y\n",
       "0  5.910131  4.714615\n",
       "1  2.500393  2.076238\n",
       "2  3.946845  2.548811\n",
       "3  7.102233  4.615368\n",
       "4  6.168895  3.264107"
      ]
     },
     "execution_count": 1,
     "metadata": {},
     "output_type": "execute_result"
    }
   ],
   "source": [
    "\n",
    "import pandas as pd\n",
    "import numpy as np\n",
    "from matplotlib import pyplot as plt\n",
    "\n",
    "# Generate 'random' data\n",
    "np.random.seed(0)\n",
    "X = 2.5 * np.random.randn(100) + 1.5   # Array of 100 values with mean = 1.5, stddev = 2.5\n",
    "res = 0.5 * np.random.randn(100)       # Generate 100 residual terms\n",
    "y = 2 + 0.3 * X + res                  # Actual values of Y\n",
    "\n",
    "# Create pandas dataframe to store our X and y values\n",
    "df = pd.DataFrame(\n",
    "    {'X': X,\n",
    "     'y': y}\n",
    ")\n",
    "\n",
    "# Show the first five rows of our dataframe\n",
    "df.head()\n"
   ]
  },
  {
   "cell_type": "code",
   "execution_count": 6,
   "id": "dea575d7",
   "metadata": {},
   "outputs": [
    {
     "name": "stdout",
     "output_type": "stream",
     "text": [
      "634.891637009332\n",
      "92.64217136894608\n",
      "alpha = 2.0031670124623426\n",
      "beta = 0.3229396867092763\n"
     ]
    }
   ],
   "source": [
    "\n",
    "# Calculate the mean of X and y\n",
    "xmean = np.mean(X)\n",
    "ymean = np.mean(y)\n",
    "\n",
    "# Calculate the terms needed for the numator and denominator of beta\n",
    "df['xycov'] = (df['X'] - xmean) * (df['y'] - ymean)\n",
    "\n",
    "df['xvar'] = (df['X'] - xmean)**2\n",
    "df['yvar'] = (df['y'] - ymean)**2\n",
    "\n",
    "print(df['xvar'].sum())\n",
    "print(df['yvar'].sum())\n",
    "\n",
    "# Calculate beta and alpha\n",
    "beta = df['xycov'].sum() / df['xvar'].sum()\n",
    "alpha = ymean - (beta * xmean)\n",
    "print(f'alpha = {alpha}')\n",
    "print(f'beta = {beta}')\n"
   ]
  },
  {
   "cell_type": "code",
   "execution_count": 11,
   "id": "10f4f407",
   "metadata": {},
   "outputs": [],
   "source": [
    "# Yₑ = 2.003 + 0.323 X\n",
    "# For example, if we had a value X = 10, we can predict that:\n",
    "# Yₑ = 2.003 + 0.323 (10) = 5.233.\n",
    "\n",
    "ypred = alpha + beta * X\n"
   ]
  },
  {
   "cell_type": "code",
   "execution_count": 12,
   "id": "9dcb834a",
   "metadata": {},
   "outputs": [
    {
     "data": {
      "image/png": "[encoded data removed]",
      "text/plain": [
       "<Figure size 864x432 with 1 Axes>"
      ]
     },
     "metadata": {
      "needs_background": "light"
     },
     "output_type": "display_data"
    }
   ],
   "source": [
    "# Let’s plot our prediction ypred against the actual values of y,to get a better visual understanding of our model.\n",
    "\n",
    "# Plot regression against actual data\n",
    "plt.figure(figsize=(12, 6))\n",
    "plt.plot(X, ypred)     # regression line\n",
    "plt.plot(X, y, 'ro')   # scatter plot showing actual data\n",
    "plt.title('Actual vs Predicted')\n",
    "plt.xlabel('X')\n",
    "plt.ylabel('y')\n",
    "\n",
    "plt.show()"
   ]
  },
  {
   "cell_type": "markdown",
   "id": "6868849d",
   "metadata": {},
   "source": [
    "#  multiple linear regression model\n",
    "Yₑ = α + β₁X₁ + β₂X₂ + … + βₚXₚ, where p is the number of predictors"
   ]
  },
  {
   "cell_type": "code",
   "execution_count": 17,
   "id": "0b780bd5",
   "metadata": {},
   "outputs": [
    {
     "data": {
      "text/html": [
       "<div>\n",
       "<style scoped>\n",
       "    .dataframe tbody tr th:only-of-type {\n",
       "        vertical-align: middle;\n",
       "    }\n",
       "\n",
       "    .dataframe tbody tr th {\n",
       "        vertical-align: top;\n",
       "    }\n",
       "\n",
       "    .dataframe thead th {\n",
       "        text-align: right;\n",
       "    }\n",
       "</style>\n",
       "<table border=\"1\" class=\"dataframe\">\n",
       "  <thead>\n",
       "    <tr style=\"text-align: right;\">\n",
       "      <th></th>\n",
       "      <th>Unnamed: 0</th>\n",
       "      <th>TV</th>\n",
       "      <th>Radio</th>\n",
       "      <th>Newspaper</th>\n",
       "      <th>Sales</th>\n",
       "    </tr>\n",
       "  </thead>\n",
       "  <tbody>\n",
       "    <tr>\n",
       "      <th>0</th>\n",
       "      <td>1</td>\n",
       "      <td>230.1</td>\n",
       "      <td>37.8</td>\n",
       "      <td>69.2</td>\n",
       "      <td>22.1</td>\n",
       "    </tr>\n",
       "    <tr>\n",
       "      <th>1</th>\n",
       "      <td>2</td>\n",
       "      <td>44.5</td>\n",
       "      <td>39.3</td>\n",
       "      <td>45.1</td>\n",
       "      <td>10.4</td>\n",
       "    </tr>\n",
       "    <tr>\n",
       "      <th>2</th>\n",
       "      <td>3</td>\n",
       "      <td>17.2</td>\n",
       "      <td>45.9</td>\n",
       "      <td>69.3</td>\n",
       "      <td>9.3</td>\n",
       "    </tr>\n",
       "    <tr>\n",
       "      <th>3</th>\n",
       "      <td>4</td>\n",
       "      <td>151.5</td>\n",
       "      <td>41.3</td>\n",
       "      <td>58.5</td>\n",
       "      <td>18.5</td>\n",
       "    </tr>\n",
       "    <tr>\n",
       "      <th>4</th>\n",
       "      <td>5</td>\n",
       "      <td>180.8</td>\n",
       "      <td>10.8</td>\n",
       "      <td>58.4</td>\n",
       "      <td>12.9</td>\n",
       "    </tr>\n",
       "  </tbody>\n",
       "</table>\n",
       "</div>"
      ],
      "text/plain": [
       "   Unnamed: 0     TV  Radio  Newspaper  Sales\n",
       "0           1  230.1   37.8       69.2   22.1\n",
       "1           2   44.5   39.3       45.1   10.4\n",
       "2           3   17.2   45.9       69.3    9.3\n",
       "3           4  151.5   41.3       58.5   18.5\n",
       "4           5  180.8   10.8       58.4   12.9"
      ]
     },
     "execution_count": 17,
     "metadata": {},
     "output_type": "execute_result"
    }
   ],
   "source": [
    "# Import and display first five rows of advertising dataset\n",
    "advert = pd.read_csv(r'C:\\Users\\Aryan.ABSALAN\\MLGO\\Advertising.csv', encoding=\"utf-8\")\n",
    "advert.head()"
   ]
  },
  {
   "cell_type": "code",
   "execution_count": 21,
   "id": "ab48160c",
   "metadata": {},
   "outputs": [],
   "source": [
    "from sklearn.linear_model import LinearRegression\n",
    "\n",
    "# Build linear regression model using TV and Radio as predictors\n",
    "# Split data into predictors X and output Y\n",
    "# Also : \n",
    "# predictors = ['TV', 'Radio']\n",
    "# X = advert[predictors]\n",
    "\n",
    "X= advert[['TV', 'Radio']]\n",
    "y = advert['Sales']\n",
    "\n",
    "# Initialise and fit model\n",
    "lm = LinearRegression()\n",
    "model = lm.fit(X, y)"
   ]
  },
  {
   "cell_type": "code",
   "execution_count": 22,
   "id": "f554848c",
   "metadata": {},
   "outputs": [
    {
     "name": "stdout",
     "output_type": "stream",
     "text": [
      "alpha = 2.9210999124051362\n",
      "betas = [0.04575482 0.18799423]\n"
     ]
    }
   ],
   "source": [
    "# After building a model there is no need to calculate the values for alpha and betas ourselves.\n",
    "# we just have to call \n",
    "\n",
    "# .intercept_ for alpha, and \n",
    "# .coef_ for an array with our coefficients beta1 and beta2\n",
    "\n",
    "print(f'alpha = {model.intercept_}')\n",
    "print(f'betas = {model.coef_}')\n",
    "\n",
    "# Sales = α + β₁*TV + β₂*Radio\n",
    "# Sales = 2.921 + 0.046*TV + 0.1880*Radio."
   ]
  },
  {
   "cell_type": "code",
   "execution_count": 26,
   "id": "a60c1db2",
   "metadata": {},
   "outputs": [
    {
     "name": "stdout",
     "output_type": "stream",
     "text": [
      "[20.55546463 12.34536229 12.33701773 17.61711596 13.22390813 12.51208449\n",
      " 11.71821241 12.10551553  3.7093792  12.55169696  7.0358597  17.25652015\n",
      " 10.60866187  8.81095051 18.44466773 20.82891539 12.90386507 23.24107626\n",
      "  9.94121476 14.15384619 18.12139161 14.74206357  6.51417168 16.54402663\n",
      "  8.14035215 15.6080206  14.96769383 17.0463346  19.39954145  9.15929748\n",
      " 21.64292187 11.35791808  7.65045928 18.83346334  7.56302763 16.99280099\n",
      " 23.36720719 15.6258994   9.91257829 20.4405801  16.37872122 17.29870935\n",
      " 21.5621537  13.96692266  8.9009974  15.16263814  8.88644967 21.69944046\n",
      " 16.28690268  8.18162949 12.64569407  9.31962792 20.66180115 19.96126242\n",
      " 20.35512357 21.30864743  8.53774783 12.76239488 21.89072858 18.10746914\n",
      "  5.74497097 22.90418658 16.78413768 13.18474853 16.96570907  7.82652846\n",
      "  8.98703456 12.02066194 18.95313425 21.09369037 17.78350693 10.63329605\n",
      " 10.35113844  9.91334008 17.30983543 11.90970399  4.48014809 13.79239059\n",
      "  8.78920329  9.67621401 11.43621364 14.6638809  10.18272029 14.41647235\n",
      " 20.77350468 15.22002396 11.58203354 15.61872354 11.75510286 16.93110264\n",
      "  9.98714329  4.51167896 19.17972975 21.26277229 10.46708623 16.33347878\n",
      " 12.62023117 15.32904398 24.12842563 16.94651016 13.90534597 23.30701753\n",
      " 17.64034079 14.75193037 20.26809884 17.95362103  6.13290678  7.11373347\n",
      "  3.59568568 19.66392439 14.79408982 21.12381933 13.85533202 16.38399023\n",
      " 15.29725626 12.93708446 11.97848762  6.56716317 15.60946713  6.81665095\n",
      " 14.42450056  7.86076515 13.62136464 15.05811789 19.4940435   9.12925166\n",
      " 10.59096289  6.59063608 22.21260278  7.90401761 10.39769966 15.60046013\n",
      "  8.41888332 19.27581486 11.86602974 13.96678613 11.42419802 20.87722595\n",
      "  9.75760743 19.63411177  9.47540519 18.43880322 19.25144497  8.77862066\n",
      " 10.10502768  9.6976895  15.27918887 23.26038805 12.23595022  9.81659119\n",
      " 18.37759626 10.03658404 16.34251686 18.22227054 15.48053237  5.28942768\n",
      " 15.39522591 10.01956371 10.39341821 12.40610283 14.21650102 13.57248088\n",
      " 14.94400258 17.32019972 11.04707937 14.28978442 10.80869402 13.36076565\n",
      " 17.21335083 17.92193265  7.3895737  14.37684633  7.59657824 11.96096978\n",
      " 13.73615116 24.7835259  19.96402163 12.17492441 16.01384397 12.37803956\n",
      " 10.57508895 13.93369584  6.56408761 24.16393648 18.53794901 20.77937663\n",
      "  9.69868449 17.06027938 18.62009678  6.0514451  12.45497782  8.4059261\n",
      "  4.47885906 18.44876059 16.4631902   5.36451249  8.15237521 12.76804849\n",
      " 23.79292299 15.15754285]\n"
     ]
    }
   ],
   "source": [
    "ypred = model.predict(X)\n",
    "print(ypred)"
   ]
  },
  {
   "cell_type": "code",
   "execution_count": 27,
   "id": "f91af08b",
   "metadata": {},
   "outputs": [
    {
     "name": "stdout",
     "output_type": "stream",
     "text": [
      "[54.24638977]\n"
     ]
    }
   ],
   "source": [
    "new_X = [[300, 200]]\n",
    "print(model.predict(new_X))"
   ]
  },
  {
   "cell_type": "code",
   "execution_count": null,
   "id": "0b148315",
   "metadata": {},
   "outputs": [],
   "source": []
  }
 ],
 "metadata": {
  "kernelspec": {
   "display_name": "Python 3 (ipykernel)",
   "language": "python",
   "name": "python3"
  },
  "language_info": {
   "codemirror_mode": {
    "name": "ipython",
    "version": 3
   },
   "file_extension": ".py",
   "mimetype": "text/x-python",
   "name": "python",
   "nbconvert_exporter": "python",
   "pygments_lexer": "ipython3",
   "version": "3.9.7"
  }
 },
 "nbformat": 4,
 "nbformat_minor": 5
}
